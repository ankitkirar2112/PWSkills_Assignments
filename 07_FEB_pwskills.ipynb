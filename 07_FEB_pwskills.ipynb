{
 "cells": [
  {
   "cell_type": "markdown",
   "id": "576fae7c",
   "metadata": {},
   "source": [
    "Q1. You are writing code for a company. The requirement of the company is that you create a python\n",
    "function that will check whether the password entered by the user is correct or not. The function should\n",
    "take the password as input and return the string “Valid Password” if the entered password follows the\n",
    "below-given password guidelines else it should return “Invalid Password”.\n",
    "Note: 1. The Password should contain at least two uppercase letters and at least two lowercase letters.\n",
    "2. The Password should contain at least a number and three special characters.\n",
    "3. The length of the password should be 10 characters long."
   ]
  },
  {
   "cell_type": "code",
   "execution_count": 25,
   "id": "ac878565",
   "metadata": {},
   "outputs": [
    {
     "name": "stdout",
     "output_type": "stream",
     "text": [
      "AnkitKirar@2#1$*\n",
      "Valid Password\n"
     ]
    }
   ],
   "source": [
    "def passwordValid(pswrd):\n",
    "    upper = 0\n",
    "    lower = 0\n",
    "    number = 0\n",
    "    spchr = 0\n",
    "    if len(pswrd)<10:\n",
    "        return \"Invalid Password\"\n",
    "    else:\n",
    "        for i in pswrd :\n",
    "            if (ord(i) in range(ord('A'),ord('Z'))):\n",
    "                upper+=1\n",
    "            if (ord(i) in range(ord('a'),ord('z'))):\n",
    "                lower+=1\n",
    "            if(i>='0' and i<='9' ):\n",
    "                number+=1\n",
    "            if i in (\"@\",\"!\",\"*\",\"#\",\"$\",\"%\",\"^\",\"&\",\"?\",\"|\",\"|\",\"/\"):\n",
    "                      spchr+=1\n",
    "    if (upper>=2 and lower>=2 and number>=1 and spchr>=3):\n",
    "                      return \"Valid Password\"\n",
    "    return \"Invalid Password\"\n",
    "\n",
    "# main                    \n",
    "password = input()\n",
    "print(passwordValid(password))"
   ]
  },
  {
   "cell_type": "markdown",
   "id": "39648422",
   "metadata": {},
   "source": [
    "Q2. Solve the below-given questions using at least one of the following:\n",
    "1. Lambda functioJ\n",
    "2. Filter functioJ\n",
    "3. Zap functioJ\n",
    "4. List ComprehensioI\n",
    "B Check if the string starts with a particular letterY\n",
    "B Check if the string is numericY\n",
    "B Sort a list of tuples having fruit names and their quantity. [(\"mango\",99),(\"orange\",80), (\"grapes\", 1000)-\n",
    "B Find the squares of numbers from 1 to 10Y\n",
    "B Find the cube root of numbers from 1 to 10Y\n",
    "B Check if a given number is evenY\n",
    "B Filter odd numbers from the given list.\n",
    "[1,2,3,4,5,6,7,8,9,10-\n",
    "B Sort a list of integers into positive and negative integers lists.\n",
    "[1,2,3,4,5,6,-1,-2,-3,-4,-5,0]"
   ]
  },
  {
   "cell_type": "code",
   "execution_count": 30,
   "id": "5640cf58",
   "metadata": {},
   "outputs": [
    {
     "name": "stdout",
     "output_type": "stream",
     "text": [
      "Enter the String Sagar\n",
      "give the starting character you want to checkS\n",
      "True\n"
     ]
    }
   ],
   "source": [
    "# Check if the string starts with a particular letter\n",
    "string = input(\"Enter the String \") \n",
    "start_character = input(\"Give the starting character you want to check \")\n",
    "res = lambda string , start_character : string.startswith(start_character)\n",
    "print(res(string,start_character))"
   ]
  },
  {
   "cell_type": "code",
   "execution_count": 5,
   "id": "98360065",
   "metadata": {},
   "outputs": [
    {
     "name": "stdout",
     "output_type": "stream",
     "text": [
      "214235235\n",
      "True\n"
     ]
    }
   ],
   "source": [
    "# Check if the string is numeric\n",
    "\n",
    "string = input()\n",
    "result = lambda string: string.isnumeric()\n",
    "print((result(string)))"
   ]
  },
  {
   "cell_type": "code",
   "execution_count": 12,
   "id": "b604f6ec",
   "metadata": {},
   "outputs": [
    {
     "ename": "TypeError",
     "evalue": "'int' object is not subscriptable",
     "output_type": "error",
     "traceback": [
      "\u001b[1;31m---------------------------------------------------------------------------\u001b[0m",
      "\u001b[1;31mTypeError\u001b[0m                                 Traceback (most recent call last)",
      "Cell \u001b[1;32mIn[12], line 10\u001b[0m\n\u001b[0;32m      8\u001b[0m fruit \u001b[38;5;241m=\u001b[39m [(\u001b[38;5;124m\"\u001b[39m\u001b[38;5;124mmango\u001b[39m\u001b[38;5;124m\"\u001b[39m,\u001b[38;5;241m99\u001b[39m),(\u001b[38;5;124m\"\u001b[39m\u001b[38;5;124morange\u001b[39m\u001b[38;5;124m\"\u001b[39m,\u001b[38;5;241m80\u001b[39m), (\u001b[38;5;124m\"\u001b[39m\u001b[38;5;124mgrapes\u001b[39m\u001b[38;5;124m\"\u001b[39m, \u001b[38;5;241m1000\u001b[39m)]\n\u001b[0;32m      9\u001b[0m res \u001b[38;5;241m=\u001b[39m \u001b[38;5;28mmap\u001b[39m(fruit_list,fruit)\n\u001b[1;32m---> 10\u001b[0m \u001b[38;5;28mprint\u001b[39m(\u001b[38;5;28;43mlist\u001b[39;49m\u001b[43m(\u001b[49m\u001b[43mres\u001b[49m\u001b[43m)\u001b[49m)\n",
      "Cell \u001b[1;32mIn[12], line 4\u001b[0m, in \u001b[0;36mfruit_list\u001b[1;34m(f)\u001b[0m\n\u001b[0;32m      2\u001b[0m \u001b[38;5;28;01mdef\u001b[39;00m \u001b[38;5;21mfruit_list\u001b[39m(f):\n\u001b[0;32m      3\u001b[0m     \u001b[38;5;28;01mfor\u001b[39;00m i \u001b[38;5;129;01min\u001b[39;00m \u001b[38;5;28mrange\u001b[39m(\u001b[38;5;241m2\u001b[39m) :\n\u001b[1;32m----> 4\u001b[0m         \u001b[38;5;28;01mif\u001b[39;00m f[i][\u001b[38;5;241m1\u001b[39m]\u001b[38;5;241m>\u001b[39m\u001b[43mf\u001b[49m\u001b[43m[\u001b[49m\u001b[43mi\u001b[49m\u001b[38;5;241;43m+\u001b[39;49m\u001b[38;5;241;43m1\u001b[39;49m\u001b[43m]\u001b[49m\u001b[43m[\u001b[49m\u001b[38;5;241;43m1\u001b[39;49m\u001b[43m]\u001b[49m:\n\u001b[0;32m      5\u001b[0m             f[i],f[i\u001b[38;5;241m+\u001b[39m\u001b[38;5;241m1\u001b[39m] \u001b[38;5;241m=\u001b[39m f[i\u001b[38;5;241m+\u001b[39m\u001b[38;5;241m1\u001b[39m],f[i]\n",
      "\u001b[1;31mTypeError\u001b[0m: 'int' object is not subscriptable"
     ]
    }
   ],
   "source": [
    "# Sort a list of tuples having fruit names and their quantity\n",
    "def fruit_list(f):\n",
    "    for i in range(2) :\n",
    "        if f[i][1]>f[i+1][1]:\n",
    "            f[i],f[i+1] = f[i+1],f[i]\n",
    " \n",
    "fruit = [(\"mango\",99),(\"orange\",80), (\"grapes\", 1000)]\n",
    "res = map(fruit_list,fruit)\n",
    "print(list(res))\n"
   ]
  },
  {
   "cell_type": "code",
   "execution_count": 11,
   "id": "33494bf4",
   "metadata": {},
   "outputs": [
    {
     "name": "stdout",
     "output_type": "stream",
     "text": [
      "[1, 4, 9, 16, 25, 36, 49, 64, 81, 100]\n"
     ]
    }
   ],
   "source": [
    "# Find the squares of numbers from 1 to 10\n",
    "res = [x**2 for x in range(1,11)]\n",
    "print(res)"
   ]
  },
  {
   "cell_type": "code",
   "execution_count": 16,
   "id": "f6da4061",
   "metadata": {},
   "outputs": [
    {
     "name": "stdout",
     "output_type": "stream",
     "text": [
      "[1, 8, 27, 64, 125, 216, 343, 512, 729, 1000]\n"
     ]
    }
   ],
   "source": [
    "# Find the cube root of numbers from 1 to 10\n",
    "num_list=[i for i in range(1,11)]\n",
    "res = map(lambda x : x**3,num_list)\n",
    "print(list(res))"
   ]
  },
  {
   "cell_type": "code",
   "execution_count": 21,
   "id": "ce8f3fc3",
   "metadata": {},
   "outputs": [
    {
     "name": "stdout",
     "output_type": "stream",
     "text": [
      "9\n",
      "False\n"
     ]
    }
   ],
   "source": [
    "# Check if a given number is even\n",
    "x = int(input())\n",
    "check = lambda x : x%2==0\n",
    "print(check(x))\n",
    "        "
   ]
  },
  {
   "cell_type": "code",
   "execution_count": 30,
   "id": "1a9e5882",
   "metadata": {},
   "outputs": [
    {
     "name": "stdout",
     "output_type": "stream",
     "text": [
      "[1, 3, 5, 7, 9]\n"
     ]
    }
   ],
   "source": [
    "# Filter odd numbers from the given list\n",
    "def odd(x):\n",
    "    return x%2!=0\n",
    "num_list = [1,2,3,4,5,6,7,8,9,10]\n",
    "print(list(filter(odd,num_list)))"
   ]
  },
  {
   "cell_type": "code",
   "execution_count": 2,
   "id": "a31ef785",
   "metadata": {},
   "outputs": [
    {
     "name": "stdout",
     "output_type": "stream",
     "text": [
      "Positive list  [1, 2, 3, 4, 5, 6, 0]\n",
      "Negative list  [-1, -2, -3, -4, -5]\n"
     ]
    }
   ],
   "source": [
    "#  Sort a list of integers into positive and negative integers lists. [1,2,3,4,5,6,-1,-2,-3,-4,-5,0]\n",
    "l = [1,2,3,4,5,6,-1,-2,-3,-4,-5,0]\n",
    "ptv_lst = [x for x in l if x>=0]\n",
    "ntv_lst = [x for x in l if x<0]\n",
    "print(\"Positive list \",ptv_lst)\n",
    "print(\"Negative list \",ntv_lst)"
   ]
  },
  {
   "cell_type": "code",
   "execution_count": null,
   "id": "7ad5a564",
   "metadata": {},
   "outputs": [],
   "source": []
  }
 ],
 "metadata": {
  "kernelspec": {
   "display_name": "Python 3 (ipykernel)",
   "language": "python",
   "name": "python3"
  },
  "language_info": {
   "codemirror_mode": {
    "name": "ipython",
    "version": 3
   },
   "file_extension": ".py",
   "mimetype": "text/x-python",
   "name": "python",
   "nbconvert_exporter": "python",
   "pygments_lexer": "ipython3",
   "version": "3.9.7"
  }
 },
 "nbformat": 4,
 "nbformat_minor": 5
}
