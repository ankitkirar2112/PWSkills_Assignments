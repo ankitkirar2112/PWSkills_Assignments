{
 "cells": [
  {
   "cell_type": "code",
   "execution_count": 17,
   "id": "ae17aa12",
   "metadata": {},
   "outputs": [
    {
     "name": "stdout",
     "output_type": "stream",
     "text": [
      "1259502929811823656960\n"
     ]
    }
   ],
   "source": [
    "# Solution of Q.1\n",
    "\n",
    "def NumMult(l):\n",
    "    prod=1\n",
    "    for i in l :\n",
    "        if type(i) == int : \n",
    "            prod=i*prod\n",
    "        elif type(i)==list or type(i)==set or type(i)==tuple:\n",
    "            for j in i :\n",
    "                if type(j) == int:\n",
    "                    prod*=j\n",
    "        elif type(i)==dict:\n",
    "            for j in i :\n",
    "                if type(j) == int:\n",
    "                    prod*=j\n",
    "                if type(i[j])==int:\n",
    "                    prod*=i[j]\n",
    "                elif type(i[j])==list or type(i[j])==set or type(i[j])==tuple:\n",
    "                    for j in i :\n",
    "                        if type(j) == int:\n",
    "                            prod*=j\n",
    "    \n",
    "    return prod\n",
    "\n",
    "list1 = [1,2,3,4, [44,55,66, True], False, (34,56,78,89,34), {1,2,3,3,2,1}, {1:34, \"key2\": [55, 67, 78, 89], 4: (45,\n",
    "22, 61, 34)}, [56, 'data science'], 'Machine Learning']\n",
    "print(NumMult(list1))"
   ]
  },
  {
   "cell_type": "code",
   "execution_count": 30,
   "id": "0c5c968a",
   "metadata": {},
   "outputs": [
    {
     "name": "stdout",
     "output_type": "stream",
     "text": [
      "r$dzmg$gl$yvxlnv$z$wzgz$hxrvmgrhg.\n"
     ]
    }
   ],
   "source": [
    "# Q.2 Msg Encrypting\n",
    "def encp(s):\n",
    "    s=s.lower()\n",
    "    code=''\n",
    "    for ch in s:\n",
    "        if ch==' ':\n",
    "            code=code+'$'\n",
    "        else:\n",
    "            code=code+chr(123-(ord(ch)-96))\n",
    "    return code + \".\"\n",
    "msg= \"I want to become a Data Scientist\"\n",
    "print(encp(msg))"
   ]
  },
  {
   "cell_type": "code",
   "execution_count": null,
   "id": "e517390e",
   "metadata": {},
   "outputs": [],
   "source": [
    "file = open()"
   ]
  },
  {
   "cell_type": "code",
   "execution_count": null,
   "id": "e43426f5",
   "metadata": {},
   "outputs": [],
   "source": []
  }
 ],
 "metadata": {
  "kernelspec": {
   "display_name": "Python 3 (ipykernel)",
   "language": "python",
   "name": "python3"
  },
  "language_info": {
   "codemirror_mode": {
    "name": "ipython",
    "version": 3
   },
   "file_extension": ".py",
   "mimetype": "text/x-python",
   "name": "python",
   "nbconvert_exporter": "python",
   "pygments_lexer": "ipython3",
   "version": "3.9.7"
  }
 },
 "nbformat": 4,
 "nbformat_minor": 5
}
