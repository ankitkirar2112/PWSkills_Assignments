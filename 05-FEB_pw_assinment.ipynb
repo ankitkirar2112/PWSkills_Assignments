{
 "cells": [
  {
   "cell_type": "code",
   "execution_count": null,
   "id": "5ec35e64",
   "metadata": {},
   "outputs": [],
   "source": [
    "Q1. Explain Class and Object with respect to Object-Oriented Programming. Give a suitable example.\n",
    "\n",
    "Class are a blueprint or a set of instructions to build a specific type of object .\n",
    "Object is an instance of a class . In other word Object is real world entity which have the properties and behavior .\n",
    "\n",
    "class Bike:\n",
    "    def __init__(self, name = \"\"):\n",
    "        self.name = name\n",
    "\n",
    "bike1 = Bike(\"Pulsur\")"
   ]
  },
  {
   "cell_type": "code",
   "execution_count": null,
   "id": "e5fa0940",
   "metadata": {},
   "outputs": [],
   "source": [
    "Q2. Name the four pillars of OOPs.\n",
    "Ans :- \n",
    "Abstraction\n",
    "Encapsulation\n",
    "Inheritance\n",
    "Polymorphism\n"
   ]
  },
  {
   "cell_type": "code",
   "execution_count": 2,
   "id": "43f58f1f",
   "metadata": {},
   "outputs": [
    {
     "name": "stdout",
     "output_type": "stream",
     "text": [
      "ANKIT\n",
      "25\n"
     ]
    }
   ],
   "source": [
    "'''\n",
    "Q3. Explain why the __init__() function is used. Give a suitable example.\n",
    "\n",
    "Ans :-All classes have a function called __init__(), which is always executed when the class is being initiated.\n",
    "Use the __init__() function to assign values to object properties, or other operations that are necessary to do when the object is being created:\n",
    "'''\n",
    "class Person:\n",
    "  def __init__(self, name, age):\n",
    "    self.name = name\n",
    "    self.age = age\n",
    "\n",
    "p1 = Person(\"ANKIT\", 25)\n",
    "\n",
    "print(p1.name)\n",
    "print(p1.age)\n",
    "\n"
   ]
  },
  {
   "cell_type": "code",
   "execution_count": null,
   "id": "46f4bc44",
   "metadata": {},
   "outputs": [],
   "source": [
    "Q4. Why self is used in OOPs?\n",
    "\n",
    "ANS :- SELF represents the instance of class. \n",
    "    This handy keyword allows you to access variables, attributes, and methods of a defined class in Python"
   ]
  },
  {
   "cell_type": "code",
   "execution_count": null,
   "id": "47f8a101",
   "metadata": {},
   "outputs": [],
   "source": [
    "Q5. What is inheritance? Give an example for each type of inheritance.\n",
    "\n",
    "Ans:- Inheritance is the process of accuring the properties (States and Behaviours) of one class into the other class .\n",
    "\n",
    " "
   ]
  },
  {
   "cell_type": "markdown",
   "id": "2c0aebb4",
   "metadata": {},
   "source": [
    "#### Types of Inhertiance"
   ]
  },
  {
   "cell_type": "code",
   "execution_count": 12,
   "id": "2a658ae4",
   "metadata": {},
   "outputs": [
    {
     "name": "stdout",
     "output_type": "stream",
     "text": [
      "Ankit 25 True 2112\n",
      "Kirar 54 False\n"
     ]
    }
   ],
   "source": [
    "# Single Level\n",
    "\n",
    "# Parent Class\n",
    "class Person:\n",
    "    def __init__(self,name,age):\n",
    "        self.name=name\n",
    "        self.age =  age\n",
    "    def isEmployee(self):\n",
    "        return False\n",
    "# Child Class \n",
    "class Employee(Person):\n",
    "    def __init__(self,name,emp_id,age):\n",
    "        self.empID = emp_id\n",
    "        Person.__init__(self,name,age)\n",
    "    def isEmployee(self):\n",
    "        return True\n",
    "emp = Employee(\"Ankit\",\"2112\",25)\n",
    "per = Person(\"Kirar\",54)\n",
    "print(emp.name,emp.age,emp.isEmployee(),emp.empID)\n",
    "print(per.name,per.age,per.isEmployee())"
   ]
  },
  {
   "cell_type": "code",
   "execution_count": 21,
   "id": "387ee30e",
   "metadata": {},
   "outputs": [
    {
     "name": "stdout",
     "output_type": "stream",
     "text": [
      "Grand Father have 26 acre land\n",
      "Father have 49 acre land.\n",
      "Child have 100 acre land.\n"
     ]
    }
   ],
   "source": [
    "# Multi level Inheritance\n",
    "\n",
    "class GrandFather:\n",
    "    def __init__(self,land):\n",
    "        self.land=land\n",
    "    def display(self):\n",
    "        print(\"Grand Father have %s acre land\"%(self.land))\n",
    "class Father(GrandFather):\n",
    "    def display(self):\n",
    "        print(f\"Father have {self.land} acre land.\")\n",
    "class Child(Father):\n",
    "    def display(self):\n",
    "        print(\"Child haeve {} acre land.\".format(self.land))\n",
    "gf = GrandFather(26)\n",
    "gf.display()\n",
    "f = Father(49)\n",
    "f.display()\n",
    "c=Child(100)\n",
    "c.display()\n",
    "        "
   ]
  },
  {
   "cell_type": "code",
   "execution_count": 27,
   "id": "90ae98db",
   "metadata": {},
   "outputs": [
    {
     "name": "stdout",
     "output_type": "stream",
     "text": [
      "Hi I'm a Male and my age is 23 and height is 5.5.\n",
      "Hi I'm a Fe-Male and my age is 18 and height is 5.1.\n"
     ]
    }
   ],
   "source": [
    "# Hierarchical inheritance\n",
    "\n",
    "class Human:\n",
    "    def __init__(self,age,height):\n",
    "        self.age = age \n",
    "        self.height = height\n",
    "class Male(Human):\n",
    "    def gender(self):\n",
    "        print(\"Hi I'm a Male and my age is {1} and height is {0}.\".format(self.height,self.age))\n",
    "class Female(Human):\n",
    "    def gender(self):\n",
    "        print(\"Hi I'm a Fe-Male and my age is {1} and height is {0}.\".format(self.height,self.age))\n",
    "    \n",
    "    \n",
    "m = Male(23,5.5)\n",
    "m.gender()\n",
    "f = Female(18,5.1)\n",
    "f.gender()\n",
    "        \n",
    "    "
   ]
  },
  {
   "cell_type": "code",
   "execution_count": null,
   "id": "a863d89c",
   "metadata": {},
   "outputs": [],
   "source": [
    "# Multiple Inheritance\n",
    "class Class1:\n",
    "    def m(self):\n",
    "        print(\"In Class1\")\n",
    "       \n",
    "class Class2(Class1):\n",
    "    def m(self):\n",
    "        print(\"In Class2\")\n",
    " \n",
    "class Class3(Class1):\n",
    "    def m(self):\n",
    "         print(\"In Class3\")    \n",
    "     \n",
    "class Class4(Class2, Class3):\n",
    "    def m(self):\n",
    "        print(\"In Class4\")  \n",
    " \n",
    "obj = Class4()\n",
    "obj.m()"
   ]
  }
 ],
 "metadata": {
  "kernelspec": {
   "display_name": "Python 3 (ipykernel)",
   "language": "python",
   "name": "python3"
  },
  "language_info": {
   "codemirror_mode": {
    "name": "ipython",
    "version": 3
   },
   "file_extension": ".py",
   "mimetype": "text/x-python",
   "name": "python",
   "nbconvert_exporter": "python",
   "pygments_lexer": "ipython3",
   "version": "3.9.7"
  }
 },
 "nbformat": 4,
 "nbformat_minor": 5
}
