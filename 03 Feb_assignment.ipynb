{
 "cells": [
  {
   "cell_type": "code",
   "execution_count": 1,
   "id": "4ad991c2-6b7d-4480-985a-4d2e1e9e3b0b",
   "metadata": {},
   "outputs": [
    {
     "name": "stdout",
     "output_type": "stream",
     "text": [
      "[1, 3, 5, 7, 9, 11, 13, 15, 17, 19, 21, 23, 25]\n"
     ]
    }
   ],
   "source": [
    "'''Q1. Which keyword is used to create a function? Create a function to return a list of odd numbers in the\n",
    "range of 1 to 25.'''\n",
    "# def is used to create the function\n",
    "def lstOdd(l):a\n",
    "    return [x for x in l if(x%2!=0)]\n",
    "# main\n",
    "lst=[x for x in range(1,26)]\n",
    "odd=lstOdd(lst)\n",
    "print(odd)\n",
    "    "
   ]
  },
  {
   "cell_type": "code",
   "execution_count": 5,
   "id": "b6a84eea-57f0-42fa-8be5-d9ee0229a1f8",
   "metadata": {},
   "outputs": [
    {
     "name": "stdout",
     "output_type": "stream",
     "text": [
      "120\n",
      "6113802240000\n"
     ]
    }
   ],
   "source": [
    "'''Q2. Why *args and **kwargs is used in some functions? Create a function each for *args and **kwargs\n",
    "to demonstrate their use. '''\n",
    "# *args and **kwargs are used in a function to allow it to accept a variable number of arguments.\n",
    "''' Using *args and **kwargs to set values of object\n",
    "   *args receives arguments as a tuple.\n",
    "   **kwargs receives arguments as a dictionary.  '''\n",
    "def product(*mult):\n",
    "    prod=1\n",
    "    for i in mult:\n",
    "        prod*=i\n",
    "    print(prod)\n",
    "    \n",
    "product(1,2,3,4,5) \n",
    "product(9,8,7,26,27,2,2,2,2,25,5,5,3,2,32,9)\n"
   ]
  },
  {
   "cell_type": "code",
   "execution_count": 9,
   "id": "72b5e4d4-5c32-4045-ad69-e41f7b49405c",
   "metadata": {},
   "outputs": [
    {
     "name": "stdout",
     "output_type": "stream",
     "text": [
      "kirar data science \n",
      "One Two Three Four Five \n"
     ]
    }
   ],
   "source": [
    "def stringConcat(**kw):\n",
    "    res=''\n",
    "    for value in kw.values():\n",
    "        res+=value+' '\n",
    "    return res\n",
    "\n",
    "print(stringConcat(ankit='kirar',pw='data science'))\n",
    "print(stringConcat( a='One',b='Two',c='Three',d='Four',e='Five'))"
   ]
  },
  {
   "cell_type": "code",
   "execution_count": 3,
   "id": "bb20a9d5-5914-41e7-b276-da17be04d20e",
   "metadata": {},
   "outputs": [
    {
     "name": "stdout",
     "output_type": "stream",
     "text": [
      "2 4 6 8 10 12 14 16 18 20 "
     ]
    }
   ],
   "source": [
    "'''Q3. What is an iterator in python? Name the method used to initialise the iterator object and the method\n",
    "used for iteration. Use these methods to print the first five elements of the given list [2, 4, 6, 8, 10, 12, 14,\n",
    "16, 18, 20].\n",
    "ANSWER:-\n",
    "An Iterator is an object that allows the programmer to traverse through a sequence of data without having to store\n",
    "the entire data in the memory.\n",
    "The method used to initialize the iterator object is the iter() method. This method takes an iterable object as an\n",
    "argument and returns an iterator.\n",
    "\n",
    "The method used for iteration is the next() method. This method retrieves the next item from the iterator. \n",
    "If the end of the sequence is reached, the next() method will raise a StopIteration exception. '''\n",
    "\n",
    "li = [2, 4, 6, 8, 10, 12, 14,16, 18, 20]\n",
    "iterator=iter(li)\n",
    "while True:\n",
    "        \n",
    "        try:\n",
    "            print(next(iterator),end=' ')\n",
    "        except StopIteration:\n",
    "            break    \n",
    "\n",
    "\n"
   ]
  },
  {
   "cell_type": "code",
   "execution_count": 7,
   "id": "7d19d41a-b871-4bf1-94ba-2d780e1a4497",
   "metadata": {},
   "outputs": [
    {
     "name": "stdin",
     "output_type": "stream",
     "text": [
      " 5\n"
     ]
    },
    {
     "name": "stdout",
     "output_type": "stream",
     "text": [
      "1\n",
      "2\n",
      "3\n",
      "4\n",
      "5\n"
     ]
    }
   ],
   "source": [
    "'''Q4. What is a generator function in python? Why yield keyword is used? Give an example of a generator\n",
    "function.\n",
    "A generator function in Python is a special type of function that returns a generator iterator, \n",
    "which is used to produce a sequence of values, instead of a single value. \n",
    "The yield keyword is used in a generator function to return a value and pause the function's execution, \n",
    "so that the next time the generator is called, it continues where it left off. The generator function can be \n",
    "resumed multiple times until it raises a StopIteration exception to indicate that it has produced all of its values.'''\n",
    "def seqGenerator():\n",
    "    a=1\n",
    "    while True: \n",
    "        yield a\n",
    "        a+=1\n",
    "n=int(input())\n",
    "gen=seqGenerator()\n",
    "for i in range(1,n+1):\n",
    "    print(next(gen))\n",
    "\n",
    "    \n"
   ]
  },
  {
   "cell_type": "code",
   "execution_count": 1,
   "id": "f99de768-5e8b-474f-af4e-803e4a612d8f",
   "metadata": {},
   "outputs": [
    {
     "name": "stdout",
     "output_type": "stream",
     "text": [
      "2\n",
      "3\n",
      "5\n",
      "7\n",
      "11\n",
      "13\n",
      "17\n",
      "19\n",
      "23\n",
      "29\n",
      "31\n",
      "37\n",
      "41\n",
      "43\n",
      "47\n",
      "53\n",
      "59\n",
      "61\n",
      "67\n",
      "71\n"
     ]
    }
   ],
   "source": [
    "'''Q5. Create a generator function for prime numbers less than 1000. Use the next() method to print the\n",
    "first 20 prime numbers.'''\n",
    "def isPrime(x):\n",
    "    for i in range(2,x//2+1):\n",
    "        if(x%i==0):\n",
    "            return False\n",
    "    return True\n",
    "\n",
    "def genPrime():\n",
    "    if(n<=1000):\n",
    "        i=2\n",
    "        while True:\n",
    "            if(isPrime(i)):\n",
    "                yield i\n",
    "            i+=1    \n",
    "n=20\n",
    "gen=genPrime()\n",
    "\n",
    "for i in range(n):\n",
    "    print(next(gen))"
   ]
  },
  {
   "cell_type": "code",
   "execution_count": 13,
   "id": "d4f6c505-7e3a-4b98-8be7-9916e964b789",
   "metadata": {},
   "outputs": [
    {
     "data": {
      "text/plain": [
       "False"
      ]
     },
     "execution_count": 13,
     "metadata": {},
     "output_type": "execute_result"
    }
   ],
   "source": [
    "isPrime(2)"
   ]
  },
  {
   "cell_type": "code",
   "execution_count": 2,
   "id": "6562d929-cd38-43e6-82ce-0137d3a0c1c1",
   "metadata": {},
   "outputs": [
    {
     "name": "stdout",
     "output_type": "stream",
     "text": [
      "0\n",
      "1\n",
      "1\n",
      "2\n",
      "3\n",
      "5\n",
      "8\n",
      "13\n",
      "21\n",
      "34\n"
     ]
    }
   ],
   "source": [
    "'''Q6. Write a python program to print the first 10 Fibonacci numbers using a while loop.'''\n",
    "f1=0\n",
    "f2=1\n",
    "i=1\n",
    "while i<=10:\n",
    "    print(f1)\n",
    "    f3=f1+f2\n",
    "    f1=f2\n",
    "    f2=f3\n",
    "    i+=1\n",
    "    "
   ]
  },
  {
   "cell_type": "code",
   "execution_count": 4,
   "id": "3f724aa2-d600-4647-ae03-22ae5a97f5ad",
   "metadata": {},
   "outputs": [
    {
     "name": "stdout",
     "output_type": "stream",
     "text": [
      "['p', 'w', 's', 'k', 'i', 'l', 'l', 's']\n"
     ]
    }
   ],
   "source": [
    "'''Q7. Write a List Comprehension to iterate through the given string: ‘pwskills’.\n",
    "Expected output: ['p', 'w', 's', 'k', 'i', 'l', 'l', 's'] '''\n",
    "li=[x for x in 'pwskills']\n",
    "print(li)"
   ]
  },
  {
   "cell_type": "code",
   "execution_count": 9,
   "id": "c1a2350f-7130-45f5-9c93-c501b4f0318b",
   "metadata": {},
   "outputs": [
    {
     "name": "stdin",
     "output_type": "stream",
     "text": [
      " 123455\n"
     ]
    },
    {
     "name": "stdout",
     "output_type": "stream",
     "text": [
      "123455  is NOT Palindrome number\n"
     ]
    }
   ],
   "source": [
    "'''Q8. Write a python program to check whether a given number is Palindrome or not using a while loop. '''\n",
    "n=int(input())\n",
    "rev=''\n",
    "org=n\n",
    "while n>0:\n",
    "    dig=n%10\n",
    "    rev+=str(dig)\n",
    "    n//=10\n",
    "if(org==int(rev)):\n",
    "    print(org,' is Palindrome number')\n",
    "else:\n",
    "     print(org,' is NOT Palindrome number')\n"
   ]
  },
  {
   "cell_type": "code",
   "execution_count": 10,
   "id": "b98ce885-d925-411f-8454-5bace49ab1b5",
   "metadata": {},
   "outputs": [
    {
     "name": "stdout",
     "output_type": "stream",
     "text": [
      "[1, 3, 5, 7, 9, 11, 13, 15, 17, 19, 21, 23, 25, 27, 29, 31, 33, 35, 37, 39, 41, 43, 45, 47, 49, 51, 53, 55, 57, 59, 61, 63, 65, 67, 69, 71, 73, 75, 77, 79, 81, 83, 85, 87, 89, 91, 93, 95, 97, 99]\n"
     ]
    }
   ],
   "source": [
    "'''Q9. Write a code to print odd numbers from 1 to 100 using list comprehension.\n",
    "Note: Use a list comprehension to create a list from 1 to 100 and use another List comprehension to filter\n",
    "out odd numbers.\n",
    "'''\n",
    "li=[ x for x in range(1,101)]\n",
    "odd_list=[i for i in li if(i%2!=0)]\n",
    "print(odd_list)"
   ]
  },
  {
   "cell_type": "markdown",
   "id": "6e2623fb-f9ee-43f4-84af-a299f5a1557a",
   "metadata": {},
   "source": [
    "## End of Assignment"
   ]
  },
  {
   "cell_type": "code",
   "execution_count": null,
   "id": "787a4e3b-adff-4fa2-9197-f6bd0b6c6634",
   "metadata": {},
   "outputs": [],
   "source": []
  }
 ],
 "metadata": {
  "kernelspec": {
   "display_name": "Python 3 (ipykernel)",
   "language": "python",
   "name": "python3"
  },
  "language_info": {
   "codemirror_mode": {
    "name": "ipython",
    "version": 3
   },
   "file_extension": ".py",
   "mimetype": "text/x-python",
   "name": "python",
   "nbconvert_exporter": "python",
   "pygments_lexer": "ipython3",
   "version": "3.10.8"
  }
 },
 "nbformat": 4,
 "nbformat_minor": 5
}
